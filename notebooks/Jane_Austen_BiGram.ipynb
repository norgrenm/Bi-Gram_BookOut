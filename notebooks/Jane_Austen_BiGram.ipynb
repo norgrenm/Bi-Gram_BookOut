{
 "cells": [
  {
   "cell_type": "markdown",
   "metadata": {},
   "source": [
    "# Generate Bigram sentences based on Jane Austen books"
   ]
  },
  {
   "cell_type": "markdown",
   "metadata": {},
   "source": [
    "### Notes\n",
    "\n",
    "No NLP Packages"
   ]
  },
  {
   "cell_type": "markdown",
   "metadata": {},
   "source": [
    "###  Import Required Packages to support project"
   ]
  },
  {
   "cell_type": "code",
   "execution_count": 2,
   "metadata": {},
   "outputs": [],
   "source": [
    "from re import sub\n",
    "import io\n",
    "import pandas as pd\n",
    "from collections import defaultdict\n",
    "import random"
   ]
  },
  {
   "cell_type": "markdown",
   "metadata": {},
   "source": [
    "###  Import Data"
   ]
  },
  {
   "cell_type": "code",
   "execution_count": 3,
   "metadata": {},
   "outputs": [],
   "source": [
    "## Establish a variable with the file path\n",
    "Collection = \"/Users/man/GitHub/symmetrical-barnacle/data/JaneAusten_Collection.txt\"\n",
    "\n",
    "## Data provided by Project Gutenburg \n",
    "## Utilize with open to open the variable titles in a read only mode in utf-8 encoding and establish  \n",
    "## a new variable then read it in / replace periods with the word 'PERIOD', once read-in, close the file\n",
    "with io.open(Collection,'r',encoding='windows-1252') as repo:\n",
    "    data = repo.read().replace('.',' PERIOD').split()"
   ]
  },
  {
   "cell_type": "markdown",
   "metadata": {},
   "source": [
    "### Create pairs of words"
   ]
  },
  {
   "cell_type": "code",
   "execution_count": 4,
   "metadata": {},
   "outputs": [],
   "source": [
    "## Create variables that contain lists in different portions of iteration (word 2 by offsetting word 1)\n",
    "## this creates word pairs\n",
    "word1 = list(data)\n",
    "word2 = list(data[1:])\n",
    "\n",
    "## Create a variable that is a list of lists\n",
    "word_pair = list(zip(word1,word2))"
   ]
  },
  {
   "cell_type": "markdown",
   "metadata": {},
   "source": [
    "### Create and clean up dataframes"
   ]
  },
  {
   "cell_type": "code",
   "execution_count": 5,
   "metadata": {},
   "outputs": [],
   "source": [
    "## Establsh a dataframe in order to add \n",
    "word_df = pd.DataFrame()\n",
    "\n",
    "## adding blank to the word 2 list as to ensure they are equal length for Pandas transformation\n",
    "word2.append('NaN')\n",
    "\n",
    "## Create two columns within the new word_df dataframe\n",
    "word_df.loc[:,'word1'] = word1\n",
    "word_df.loc[:,'word2'] = word2\n",
    "\n",
    "## Establish a data frame called word1_df\n",
    "## Reset the dataframe index\n",
    "word1_df = pd.DataFrame()\n",
    "word1_df = word_df.groupby('word1').size().reset_index(name='counts')\n",
    "\n",
    "## Establish a data frame called pair_df\n",
    "## Reset the dataframe index\n",
    "pair_df = pd.DataFrame()\n",
    "pair_df = word_df.groupby(['word1','word2']).size().reset_index(name='counts')"
   ]
  },
  {
   "cell_type": "markdown",
   "metadata": {},
   "source": [
    "### Normalize / Generate Probabilities"
   ]
  },
  {
   "cell_type": "code",
   "execution_count": 6,
   "metadata": {},
   "outputs": [],
   "source": [
    "## Clean up the word1 dataframe by renaming counts to add more specificity\n",
    "word1_df.rename(columns={'counts':'word1counts'},inplace=True)\n",
    "word1total = word1_df['word1counts'].sum()\n",
    "\n",
    "## Create a new column/calculated field that establishs probablility by dividing word1 counts / word1 totals\n",
    "word1_df['w1Probability'] = word1_df['word1counts'] / word1total\n",
    "\n",
    "## Utilize Pandas merge to combine the pair_df and word1_df with the key being word1\n",
    "mergedcount_df = pd.merge(pair_df,word1_df,on='word1')\n",
    "\n",
    "## Establish a new column/calculated field called 'setProbability' that is a result of counts / word1 counts\n",
    "mergedcount_df['setProbability'] = mergedcount_df['counts'] / mergedcount_df['word1counts']"
   ]
  },
  {
   "cell_type": "markdown",
   "metadata": {},
   "source": [
    "### Generate 50 sentences based on a random word start"
   ]
  },
  {
   "cell_type": "code",
   "execution_count": 7,
   "metadata": {},
   "outputs": [],
   "source": [
    "## Establsh variables\n",
    "## word utilizes the bigram confusion matrix to chose the most probable word to start with (starting off)\n",
    "## sentence variable establishes a list\n",
    "word = random.choices(list(word1_df['word1']),weights=word1_df['w1Probability'])\n",
    "sentence = []"
   ]
  },
  {
   "cell_type": "code",
   "execution_count": 9,
   "metadata": {},
   "outputs": [
    {
     "data": {
      "text/html": [
       "<div>\n",
       "<style scoped>\n",
       "    .dataframe tbody tr th:only-of-type {\n",
       "        vertical-align: middle;\n",
       "    }\n",
       "\n",
       "    .dataframe tbody tr th {\n",
       "        vertical-align: top;\n",
       "    }\n",
       "\n",
       "    .dataframe thead th {\n",
       "        text-align: right;\n",
       "    }\n",
       "</style>\n",
       "<table border=\"1\" class=\"dataframe\">\n",
       "  <thead>\n",
       "    <tr style=\"text-align: right;\">\n",
       "      <th></th>\n",
       "      <th>word1</th>\n",
       "      <th>word2</th>\n",
       "      <th>counts</th>\n",
       "      <th>word1counts</th>\n",
       "      <th>w1Probability</th>\n",
       "      <th>setProbability</th>\n",
       "    </tr>\n",
       "  </thead>\n",
       "  <tbody>\n",
       "    <tr>\n",
       "      <th>96162</th>\n",
       "      <td>difficulty</td>\n",
       "      <td>PERIOD</td>\n",
       "      <td>7</td>\n",
       "      <td>82</td>\n",
       "      <td>0.000101</td>\n",
       "      <td>0.085366</td>\n",
       "    </tr>\n",
       "    <tr>\n",
       "      <th>96163</th>\n",
       "      <td>difficulty</td>\n",
       "      <td>about</td>\n",
       "      <td>3</td>\n",
       "      <td>82</td>\n",
       "      <td>0.000101</td>\n",
       "      <td>0.036585</td>\n",
       "    </tr>\n",
       "    <tr>\n",
       "      <th>96164</th>\n",
       "      <td>difficulty</td>\n",
       "      <td>allowed</td>\n",
       "      <td>1</td>\n",
       "      <td>82</td>\n",
       "      <td>0.000101</td>\n",
       "      <td>0.012195</td>\n",
       "    </tr>\n",
       "    <tr>\n",
       "      <th>96165</th>\n",
       "      <td>difficulty</td>\n",
       "      <td>and</td>\n",
       "      <td>1</td>\n",
       "      <td>82</td>\n",
       "      <td>0.000101</td>\n",
       "      <td>0.012195</td>\n",
       "    </tr>\n",
       "    <tr>\n",
       "      <th>96166</th>\n",
       "      <td>difficulty</td>\n",
       "      <td>arising,</td>\n",
       "      <td>1</td>\n",
       "      <td>82</td>\n",
       "      <td>0.000101</td>\n",
       "      <td>0.012195</td>\n",
       "    </tr>\n",
       "  </tbody>\n",
       "</table>\n",
       "</div>"
      ],
      "text/plain": [
       "            word1     word2  counts  word1counts  w1Probability  \\\n",
       "96162  difficulty    PERIOD       7           82       0.000101   \n",
       "96163  difficulty     about       3           82       0.000101   \n",
       "96164  difficulty   allowed       1           82       0.000101   \n",
       "96165  difficulty       and       1           82       0.000101   \n",
       "96166  difficulty  arising,       1           82       0.000101   \n",
       "\n",
       "       setProbability  \n",
       "96162        0.085366  \n",
       "96163        0.036585  \n",
       "96164        0.012195  \n",
       "96165        0.012195  \n",
       "96166        0.012195  "
      ]
     },
     "execution_count": 9,
     "metadata": {},
     "output_type": "execute_result"
    }
   ],
   "source": [
    "## TESTING\n",
    "mergedcount_df.loc[(mergedcount_df['word1']== 'difficulty')].head()\n",
    "\n",
    "##Current issue with inner loop transition / \n"
   ]
  },
  {
   "cell_type": "code",
   "execution_count": null,
   "metadata": {},
   "outputs": [],
   "source": [
    "## Loop that is built of two components: an internal loop that creates a sentence group\n",
    "## Ensures that there are 50 iterations of sentences\n",
    "for outerloop in range(0,50):\n",
    "    ## Add inner loop to perform sentence creation and allow outer loop to control the number of sentences\n",
    "    for innerloop in range(0,20):\n",
    "        ## Add the variable words contents to the sentence list\n",
    "        sentence.append(word)\n",
    "        ## Establish a variable that utilizes \n",
    "        matchlike = mergedcount_df.loc[(mergedcount_df['word1']== word),['word2','setProbability']]\n",
    "        word = random.choices(list(matchlike['word2']),weights=matchlike['setProbability'])[0]\n",
    "        ## An if loop that ends an iteration of the inner loop if a return function is the next logical end\n",
    "        ## re-establish the word variable based on the word one weights \n",
    "        if word == '/n':\n",
    "            break\n",
    "            word = random.choices(list(word1_df['word1']),weights=word1_df['w1Probability'])"
   ]
  },
  {
   "cell_type": "code",
   "execution_count": null,
   "metadata": {},
   "outputs": [],
   "source": [
    "## Establish variable that is the output of the sentence list but clean and proces the result\n",
    "## before printing the result set\n",
    "revised = str(sentence).replace('PERIOD','.').replace(',','').replace('\\'','').replace('\\\"','').replace(']','').replace('[','')\n",
    "print(revised,'.')"
   ]
  }
 ],
 "metadata": {
  "kernelspec": {
   "display_name": "Python 3",
   "language": "python",
   "name": "python3"
  },
  "language_info": {
   "codemirror_mode": {
    "name": "ipython",
    "version": 3
   },
   "file_extension": ".py",
   "mimetype": "text/x-python",
   "name": "python",
   "nbconvert_exporter": "python",
   "pygments_lexer": "ipython3",
   "version": "3.8.5"
  }
 },
 "nbformat": 4,
 "nbformat_minor": 4
}
